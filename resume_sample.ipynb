{
  "nbformat": 4,
  "nbformat_minor": 0,
  "metadata": {
    "kernelspec": {
      "display_name": "Python 3",
      "language": "python",
      "name": "python3"
    },
    "language_info": {
      "codemirror_mode": {
        "name": "ipython",
        "version": 3
      },
      "file_extension": ".py",
      "mimetype": "text/x-python",
      "name": "python",
      "nbconvert_exporter": "python",
      "pygments_lexer": "ipython3",
      "version": "3.7.6"
    },
    "colab": {
      "name": "resume_sample.ipynb",
      "provenance": [],
      "collapsed_sections": [],
      "toc_visible": true
    }
  },
  "cells": [
    {
      "cell_type": "code",
      "metadata": {
        "colab": {
          "base_uri": "https://localhost:8080/"
        },
        "id": "wHVxdJeWMIKB",
        "outputId": "4c578da0-2819-49bb-b8b3-1b4fce167c18"
      },
      "source": [
        "from google.colab import drive\n",
        "drive.mount('/content/drive')"
      ],
      "execution_count": null,
      "outputs": [
        {
          "output_type": "stream",
          "text": [
            "Mounted at /content/drive\n"
          ],
          "name": "stdout"
        }
      ]
    },
    {
      "cell_type": "markdown",
      "metadata": {
        "id": "T6mUP6OstsvS"
      },
      "source": [
        "# Краткое описание"
      ]
    },
    {
      "cell_type": "markdown",
      "metadata": {
        "id": "ghlw3qtKtxEo"
      },
      "source": [
        "Ноутбук предназначен для того, чтобы делать выборку кандидатов по ключевым словам"
      ]
    },
    {
      "cell_type": "markdown",
      "metadata": {
        "id": "EK1u893Et4fn"
      },
      "source": [
        "# Resume samples"
      ]
    },
    {
      "cell_type": "code",
      "metadata": {
        "id": "ol97OuQMLmat"
      },
      "source": [
        "#from parse_hh_data import download, parse\n",
        "#import requests\n",
        "import time\n",
        "import pandas as pd\n",
        "import json\n",
        "import random as rd\n",
        "import numpy as np\n",
        "from sklearn.metrics import accuracy_score"
      ],
      "execution_count": null,
      "outputs": []
    },
    {
      "cell_type": "markdown",
      "metadata": {
        "id": "PvUeSA67Lmaw"
      },
      "source": [
        "## Working with dataset"
      ]
    },
    {
      "cell_type": "code",
      "metadata": {
        "id": "fUl0t2P9Lmaw"
      },
      "source": [
        "with open('drive/MyDrive/LD final/data_file_it.json') as f:\n",
        "    data = json.load(f)"
      ],
      "execution_count": null,
      "outputs": []
    },
    {
      "cell_type": "code",
      "metadata": {
        "colab": {
          "base_uri": "https://localhost:8080/"
        },
        "id": "_RQzjR1Dhwym",
        "outputId": "1397697c-bca8-4a6f-d2ec-d7b8a03b4610"
      },
      "source": [
        "data[1]['education'][0]['year']"
      ],
      "execution_count": null,
      "outputs": [
        {
          "output_type": "execute_result",
          "data": {
            "text/plain": [
              "2011"
            ]
          },
          "metadata": {
            "tags": []
          },
          "execution_count": 28
        }
      ]
    },
    {
      "cell_type": "code",
      "metadata": {
        "id": "unCzh4lSLmaw"
      },
      "source": [
        "gender = []\n",
        "area = []\n",
        "spec_name = [] #['specialization'][0]['name']\n",
        "profarea_name = []#['specialization'][1]['profarea_name']\n",
        "title = [] #['title']\n",
        "salary = [] #['salary']['amount']\n",
        "edu = [] #['education_level']\n",
        "exp = [] #['experience'][i]['position']\n",
        "skill_set = [] #['skill_set']\n",
        "skills = [] #['skills']\n",
        "\n",
        "\n",
        "for resume in data:\n",
        "  print(resume)\n",
        "  gender.append(resume['gender'])\n",
        "  area.append(resume['area'])\n",
        "  title.append(resume['title'])\n",
        "  salary.append(resume['salary']['amount'])\n",
        "  edu.append(resume['education_level'])\n",
        "  skill_set.append(resume['skill_set'])\n",
        "  skills.append(resume['skills'])\n",
        "\n",
        "\n",
        "  exp_temp = []\n",
        "  for i in range(len(resume['experience'])):\n",
        "      exp_temp.append(resume['experience'][i]['position'])\n",
        "  exp.append(exp_temp)\n",
        "  spec_temp = []\n",
        "  for i in range(len(resume['specialization'])):\n",
        "      spec_temp.append(resume['specialization'][i]['name'])\n",
        "  spec_name.append(spec_temp)\n",
        "    \n",
        "    \n",
        "df = pd.DataFrame([gender,area,  title, salary, edu, exp, skill_set, skills]).transpose()\n"
      ],
      "execution_count": null,
      "outputs": []
    },
    {
      "cell_type": "code",
      "metadata": {
        "id": "f7HRQ4GGCvz5"
      },
      "source": [
        "def skill_search(col, skills_arg):\n",
        "  '''\n",
        "  Функция для поиска ключевых слов в резюме\n",
        "  '''\n",
        "  for skill in skills_arg:\n",
        "      df[skill] = 0\n",
        "      skilled_ids = df[col].apply(lambda x: x if skill in str(x).lower() else np.nan).dropna().index\n",
        "      df.loc[df.index.isin(skilled_ids), skill] = 1"
      ],
      "execution_count": null,
      "outputs": []
    },
    {
      "cell_type": "code",
      "metadata": {
        "id": "IK4SiaO_Lmaw"
      },
      "source": [
        "df.rename(columns = {0:'gender',1:'city',2:'wanted_spec', 3:'salary', 4:'education', 5:'experience',\n",
        "                    6:'skill_set', 7:'skills', 8:'is_passed'}, inplace = True)\n"
      ],
      "execution_count": null,
      "outputs": []
    },
    {
      "cell_type": "markdown",
      "metadata": {
        "id": "OJ5BzdgyLmaw"
      },
      "source": [
        "### Cleaning and conversion"
      ]
    },
    {
      "cell_type": "code",
      "metadata": {
        "colab": {
          "base_uri": "https://localhost:8080/"
        },
        "id": "QKFYyYWvLmaw",
        "outputId": "4511c4d2-ea6f-4c9f-b109-9e20b1034b96"
      },
      "source": [
        "df['education'].value_counts()"
      ],
      "execution_count": null,
      "outputs": [
        {
          "output_type": "execute_result",
          "data": {
            "text/plain": [
              "Высшее образование                    198\n",
              "Неоконченное высшее образование        51\n",
              "Высшее образование (Магистр)           36\n",
              "Среднее специальное образование        34\n",
              "Высшее образование (Бакалавр)          34\n",
              "Образование                            16\n",
              "Higher education                        5\n",
              "Среднее образование                     4\n",
              "Higher education (bachelor)             4\n",
              "Высшее образование (Кандидат наук)      3\n",
              "Secondary special education             2\n",
              "Education                               2\n",
              "Secondary education                     1\n",
              "Name: education, dtype: int64"
            ]
          },
          "metadata": {
            "tags": []
          },
          "execution_count": 7
        }
      ]
    },
    {
      "cell_type": "code",
      "metadata": {
        "id": "vOl3aukxLmaz"
      },
      "source": [
        "df.loc[df.education=='Higher education ', 'education'] = 'Высшее образование'"
      ],
      "execution_count": null,
      "outputs": []
    },
    {
      "cell_type": "code",
      "metadata": {
        "colab": {
          "base_uri": "https://localhost:8080/"
        },
        "id": "VU8CTqLwLmaz",
        "outputId": "d459ecd7-c3b2-4eb5-b412-d857b7b39f2f"
      },
      "source": [
        "df['gender'].value_counts()"
      ],
      "execution_count": null,
      "outputs": [
        {
          "output_type": "execute_result",
          "data": {
            "text/plain": [
              "Мужчина    347\n",
              "Женщина     29\n",
              "Male        12\n",
              "Female       2\n",
              "Name: gender, dtype: int64"
            ]
          },
          "metadata": {
            "tags": []
          },
          "execution_count": 9
        }
      ]
    },
    {
      "cell_type": "code",
      "metadata": {
        "id": "7cPH6rd_Lma0"
      },
      "source": [
        "df.loc[df.gender=='Female', 'gender'] = 'Женщина'\n",
        "df.loc[df.gender=='Male', 'gender'] = 'Мужчина'"
      ],
      "execution_count": null,
      "outputs": []
    },
    {
      "cell_type": "code",
      "metadata": {
        "id": "xwkzQ-kTLma0"
      },
      "source": [
        "specs = list(df['wanted_spec'].value_counts().index)\n",
        "for i in range(len(specs)):\n",
        "    df.loc[df['wanted_spec']==specs[i], 'wanted_spec'] = i\n",
        "    \n",
        "cities = list(df['city'].value_counts().index)\n",
        "for i in range(len(cities)):\n",
        "    df.loc[df['city']==cities[i], 'city'] = i   \n",
        "    \n",
        "edu = list(df['education'].value_counts().index)\n",
        "for i in range(len(edu)):\n",
        "    df.loc[df['education']==edu[i], 'education'] = i  "
      ],
      "execution_count": null,
      "outputs": []
    },
    {
      "cell_type": "code",
      "metadata": {
        "id": "3VI0r7fqLma0"
      },
      "source": [
        "df = df.join(pd.get_dummies(df['gender']))\n",
        "df.drop('gender', axis = 1, inplace = True)"
      ],
      "execution_count": null,
      "outputs": []
    },
    {
      "cell_type": "code",
      "metadata": {
        "colab": {
          "base_uri": "https://localhost:8080/",
          "height": 94
        },
        "id": "gPCPQU8fLma0",
        "outputId": "96868b0d-9bd4-4745-acbe-504a24e4af4f"
      },
      "source": [
        "df.head(1)"
      ],
      "execution_count": null,
      "outputs": [
        {
          "output_type": "execute_result",
          "data": {
            "text/html": [
              "<div>\n",
              "<style scoped>\n",
              "    .dataframe tbody tr th:only-of-type {\n",
              "        vertical-align: middle;\n",
              "    }\n",
              "\n",
              "    .dataframe tbody tr th {\n",
              "        vertical-align: top;\n",
              "    }\n",
              "\n",
              "    .dataframe thead th {\n",
              "        text-align: right;\n",
              "    }\n",
              "</style>\n",
              "<table border=\"1\" class=\"dataframe\">\n",
              "  <thead>\n",
              "    <tr style=\"text-align: right;\">\n",
              "      <th></th>\n",
              "      <th>city</th>\n",
              "      <th>wanted_spec</th>\n",
              "      <th>salary</th>\n",
              "      <th>education</th>\n",
              "      <th>experience</th>\n",
              "      <th>skill_set</th>\n",
              "      <th>skills</th>\n",
              "      <th>Женщина</th>\n",
              "      <th>Мужчина</th>\n",
              "    </tr>\n",
              "  </thead>\n",
              "  <tbody>\n",
              "    <tr>\n",
              "      <th>0</th>\n",
              "      <td>0</td>\n",
              "      <td>146</td>\n",
              "      <td>120000</td>\n",
              "      <td>2</td>\n",
              "      <td>[Программист C/С++]</td>\n",
              "      <td>[Машинное обучение, Data Mining, Data Analysis...</td>\n",
              "      <td>Ответственное отношение к учебе\\работе.  \\nОко...</td>\n",
              "      <td>0</td>\n",
              "      <td>1</td>\n",
              "    </tr>\n",
              "  </tbody>\n",
              "</table>\n",
              "</div>"
            ],
            "text/plain": [
              "  city wanted_spec  ... Женщина Мужчина\n",
              "0    0         146  ...       0       1\n",
              "\n",
              "[1 rows x 9 columns]"
            ]
          },
          "metadata": {
            "tags": []
          },
          "execution_count": 13
        }
      ]
    },
    {
      "cell_type": "markdown",
      "metadata": {
        "id": "BIgmM4SILma0"
      },
      "source": [
        "Чем заполнить пропуски в данных?"
      ]
    },
    {
      "cell_type": "code",
      "metadata": {
        "id": "0LwBjUJBLma1"
      },
      "source": [
        "df['salary'].fillna(0, inplace = True)"
      ],
      "execution_count": null,
      "outputs": []
    },
    {
      "cell_type": "code",
      "metadata": {
        "id": "gAWBJ0wDLma1"
      },
      "source": [
        "#none_salary = df.loc[df.salary == 0]\n",
        "#df = df.loc[df.salary != 0]"
      ],
      "execution_count": null,
      "outputs": []
    },
    {
      "cell_type": "markdown",
      "metadata": {
        "id": "rXJ-z0h-Lma1"
      },
      "source": [
        "Заполним пропуски в зарплатах средними значениями по каждой специализации"
      ]
    },
    {
      "cell_type": "code",
      "metadata": {
        "id": "qRvEkppeLma1"
      },
      "source": [
        "#none_salary_spec = list(none_salary['wanted_spec'].value_counts().index)\n",
        "\n",
        "#for spec in none_salary_spec:\n",
        "#    mean_spec_salary = df.loc[df.wanted_spec == spec]['salary'].mean()\n",
        "#    none_salary.loc[none_salary.wanted_spec == spec, 'salary'] = mean_spec_salary"
      ],
      "execution_count": null,
      "outputs": []
    },
    {
      "cell_type": "markdown",
      "metadata": {
        "id": "7XlwaxUlLma1"
      },
      "source": [
        "Удалим строки, по которым не удалось найти зарплаты"
      ]
    },
    {
      "cell_type": "code",
      "metadata": {
        "id": "R4FvU3eXLma1"
      },
      "source": [
        "#none_salary.dropna(inplace = True)"
      ],
      "execution_count": null,
      "outputs": []
    },
    {
      "cell_type": "code",
      "metadata": {
        "id": "iVSJJWhnLma1"
      },
      "source": [
        "#df = pd.concat([df, none_salary])"
      ],
      "execution_count": null,
      "outputs": []
    },
    {
      "cell_type": "code",
      "metadata": {
        "id": "O5fiHws8Lma1"
      },
      "source": [
        "skills_for_candidates = ['английский']\n",
        "col = 'skills'\n",
        "skill_search(col, skills_for_candidates)"
      ],
      "execution_count": null,
      "outputs": []
    },
    {
      "cell_type": "code",
      "metadata": {
        "id": "kEVjOs5OLma2"
      },
      "source": [
        "skill_set_for_candidates = ['машинное обучение', 'sql', 'data mining', 'data analysis']\n",
        "col = 'skill_set'\n",
        "skill_search(col, skill_set_for_candidates)"
      ],
      "execution_count": null,
      "outputs": []
    },
    {
      "cell_type": "code",
      "metadata": {
        "id": "1C25HnWMLma2"
      },
      "source": [
        "exp_for_candidates = ['программист c', '++', 'react']\n",
        "col = 'experience'\n",
        "skill_search(col, exp_for_candidates)"
      ],
      "execution_count": null,
      "outputs": []
    },
    {
      "cell_type": "code",
      "metadata": {
        "id": "SA9uvRMSLma2"
      },
      "source": [
        "count = ['experience', 'skill_set', 'skills']\n",
        "df.drop(count, axis=1, inplace=True)"
      ],
      "execution_count": null,
      "outputs": []
    },
    {
      "cell_type": "code",
      "metadata": {
        "colab": {
          "base_uri": "https://localhost:8080/",
          "height": 212
        },
        "id": "zrHdkArTLma2",
        "outputId": "f59210d9-4a95-4af8-98fa-8812abf2b8b4"
      },
      "source": [
        "df.head()"
      ],
      "execution_count": null,
      "outputs": [
        {
          "output_type": "execute_result",
          "data": {
            "text/html": [
              "<div>\n",
              "<style scoped>\n",
              "    .dataframe tbody tr th:only-of-type {\n",
              "        vertical-align: middle;\n",
              "    }\n",
              "\n",
              "    .dataframe tbody tr th {\n",
              "        vertical-align: top;\n",
              "    }\n",
              "\n",
              "    .dataframe thead th {\n",
              "        text-align: right;\n",
              "    }\n",
              "</style>\n",
              "<table border=\"1\" class=\"dataframe\">\n",
              "  <thead>\n",
              "    <tr style=\"text-align: right;\">\n",
              "      <th></th>\n",
              "      <th>city</th>\n",
              "      <th>wanted_spec</th>\n",
              "      <th>salary</th>\n",
              "      <th>education</th>\n",
              "      <th>Женщина</th>\n",
              "      <th>Мужчина</th>\n",
              "      <th>английский</th>\n",
              "      <th>машинное обучение</th>\n",
              "      <th>sql</th>\n",
              "      <th>data mining</th>\n",
              "      <th>data analysis</th>\n",
              "      <th>программист c</th>\n",
              "      <th>++</th>\n",
              "      <th>react</th>\n",
              "    </tr>\n",
              "  </thead>\n",
              "  <tbody>\n",
              "    <tr>\n",
              "      <th>0</th>\n",
              "      <td>0</td>\n",
              "      <td>146</td>\n",
              "      <td>120000</td>\n",
              "      <td>2</td>\n",
              "      <td>0</td>\n",
              "      <td>1</td>\n",
              "      <td>0</td>\n",
              "      <td>1</td>\n",
              "      <td>1</td>\n",
              "      <td>1</td>\n",
              "      <td>1</td>\n",
              "      <td>1</td>\n",
              "      <td>1</td>\n",
              "      <td>0</td>\n",
              "    </tr>\n",
              "    <tr>\n",
              "      <th>1</th>\n",
              "      <td>0</td>\n",
              "      <td>229</td>\n",
              "      <td>0</td>\n",
              "      <td>0</td>\n",
              "      <td>0</td>\n",
              "      <td>1</td>\n",
              "      <td>0</td>\n",
              "      <td>0</td>\n",
              "      <td>0</td>\n",
              "      <td>0</td>\n",
              "      <td>0</td>\n",
              "      <td>0</td>\n",
              "      <td>0</td>\n",
              "      <td>1</td>\n",
              "    </tr>\n",
              "    <tr>\n",
              "      <th>2</th>\n",
              "      <td>1</td>\n",
              "      <td>233</td>\n",
              "      <td>0</td>\n",
              "      <td>0</td>\n",
              "      <td>0</td>\n",
              "      <td>1</td>\n",
              "      <td>0</td>\n",
              "      <td>0</td>\n",
              "      <td>1</td>\n",
              "      <td>0</td>\n",
              "      <td>0</td>\n",
              "      <td>0</td>\n",
              "      <td>0</td>\n",
              "      <td>0</td>\n",
              "    </tr>\n",
              "    <tr>\n",
              "      <th>3</th>\n",
              "      <td>1</td>\n",
              "      <td>25</td>\n",
              "      <td>0</td>\n",
              "      <td>7</td>\n",
              "      <td>0</td>\n",
              "      <td>1</td>\n",
              "      <td>0</td>\n",
              "      <td>0</td>\n",
              "      <td>1</td>\n",
              "      <td>0</td>\n",
              "      <td>0</td>\n",
              "      <td>0</td>\n",
              "      <td>0</td>\n",
              "      <td>0</td>\n",
              "    </tr>\n",
              "    <tr>\n",
              "      <th>4</th>\n",
              "      <td>1</td>\n",
              "      <td>209</td>\n",
              "      <td>30000</td>\n",
              "      <td>0</td>\n",
              "      <td>1</td>\n",
              "      <td>0</td>\n",
              "      <td>0</td>\n",
              "      <td>0</td>\n",
              "      <td>1</td>\n",
              "      <td>0</td>\n",
              "      <td>0</td>\n",
              "      <td>0</td>\n",
              "      <td>0</td>\n",
              "      <td>0</td>\n",
              "    </tr>\n",
              "  </tbody>\n",
              "</table>\n",
              "</div>"
            ],
            "text/plain": [
              "  city wanted_spec  salary education  ...  data analysis  программист c  ++  react\n",
              "0    0         146  120000         2  ...              1              1   1      0\n",
              "1    0         229       0         0  ...              0              0   0      1\n",
              "2    1         233       0         0  ...              0              0   0      0\n",
              "3    1          25       0         7  ...              0              0   0      0\n",
              "4    1         209   30000         0  ...              0              0   0      0\n",
              "\n",
              "[5 rows x 14 columns]"
            ]
          },
          "metadata": {
            "tags": []
          },
          "execution_count": 23
        }
      ]
    },
    {
      "cell_type": "markdown",
      "metadata": {
        "id": "p9-5chYoLma3"
      },
      "source": [
        "## Machine learning"
      ]
    },
    {
      "cell_type": "markdown",
      "metadata": {
        "id": "Y-evgdHdOFe1"
      },
      "source": [
        "Модель, которая будет обучаться на резюме действующих кандидатов.\n",
        "\n",
        "Рекомендательная система будет чаще рекомендовать тех кандидатов, кто похож на успешных действующих сотрудников компании"
      ]
    },
    {
      "cell_type": "code",
      "metadata": {
        "id": "6q_ce4bzLma3"
      },
      "source": [
        "X = #требуются резюме действующих сотрудников\n",
        "y =  #требуются резюме действующих сотрудников\n",
        "X.drop('is_passed', axis=1, inplace=True)"
      ],
      "execution_count": null,
      "outputs": []
    },
    {
      "cell_type": "code",
      "metadata": {
        "colab": {
          "base_uri": "https://localhost:8080/",
          "height": 232
        },
        "id": "hQxoHXFKLma3",
        "outputId": "05a7200a-97ff-4ba6-eccf-48f699c96f71"
      },
      "source": [
        "X.head()"
      ],
      "execution_count": null,
      "outputs": [
        {
          "output_type": "execute_result",
          "data": {
            "text/html": [
              "<div>\n",
              "<style scoped>\n",
              "    .dataframe tbody tr th:only-of-type {\n",
              "        vertical-align: middle;\n",
              "    }\n",
              "\n",
              "    .dataframe tbody tr th {\n",
              "        vertical-align: top;\n",
              "    }\n",
              "\n",
              "    .dataframe thead th {\n",
              "        text-align: right;\n",
              "    }\n",
              "</style>\n",
              "<table border=\"1\" class=\"dataframe\">\n",
              "  <thead>\n",
              "    <tr style=\"text-align: right;\">\n",
              "      <th></th>\n",
              "      <th>city</th>\n",
              "      <th>wanted_spec</th>\n",
              "      <th>salary</th>\n",
              "      <th>education</th>\n",
              "      <th>Женщина</th>\n",
              "      <th>Мужчина</th>\n",
              "      <th>английский</th>\n",
              "      <th>машинное обучение</th>\n",
              "      <th>sql</th>\n",
              "      <th>data mining</th>\n",
              "      <th>data analysis</th>\n",
              "      <th>программист c_experience</th>\n",
              "      <th>++_experience</th>\n",
              "      <th>react_experience</th>\n",
              "    </tr>\n",
              "  </thead>\n",
              "  <tbody>\n",
              "    <tr>\n",
              "      <th>0</th>\n",
              "      <td>0</td>\n",
              "      <td>49</td>\n",
              "      <td>120000</td>\n",
              "      <td>2</td>\n",
              "      <td>0</td>\n",
              "      <td>1</td>\n",
              "      <td>0</td>\n",
              "      <td>1</td>\n",
              "      <td>1</td>\n",
              "      <td>1</td>\n",
              "      <td>1</td>\n",
              "      <td>1</td>\n",
              "      <td>1</td>\n",
              "      <td>0</td>\n",
              "    </tr>\n",
              "    <tr>\n",
              "      <th>1</th>\n",
              "      <td>0</td>\n",
              "      <td>194</td>\n",
              "      <td>0</td>\n",
              "      <td>0</td>\n",
              "      <td>0</td>\n",
              "      <td>1</td>\n",
              "      <td>0</td>\n",
              "      <td>0</td>\n",
              "      <td>0</td>\n",
              "      <td>0</td>\n",
              "      <td>0</td>\n",
              "      <td>0</td>\n",
              "      <td>0</td>\n",
              "      <td>1</td>\n",
              "    </tr>\n",
              "    <tr>\n",
              "      <th>2</th>\n",
              "      <td>1</td>\n",
              "      <td>41</td>\n",
              "      <td>0</td>\n",
              "      <td>0</td>\n",
              "      <td>0</td>\n",
              "      <td>1</td>\n",
              "      <td>0</td>\n",
              "      <td>0</td>\n",
              "      <td>1</td>\n",
              "      <td>0</td>\n",
              "      <td>0</td>\n",
              "      <td>0</td>\n",
              "      <td>0</td>\n",
              "      <td>0</td>\n",
              "    </tr>\n",
              "    <tr>\n",
              "      <th>3</th>\n",
              "      <td>1</td>\n",
              "      <td>31</td>\n",
              "      <td>0</td>\n",
              "      <td>8</td>\n",
              "      <td>0</td>\n",
              "      <td>1</td>\n",
              "      <td>0</td>\n",
              "      <td>0</td>\n",
              "      <td>1</td>\n",
              "      <td>0</td>\n",
              "      <td>0</td>\n",
              "      <td>0</td>\n",
              "      <td>0</td>\n",
              "      <td>0</td>\n",
              "    </tr>\n",
              "    <tr>\n",
              "      <th>4</th>\n",
              "      <td>1</td>\n",
              "      <td>113</td>\n",
              "      <td>30000</td>\n",
              "      <td>0</td>\n",
              "      <td>1</td>\n",
              "      <td>0</td>\n",
              "      <td>0</td>\n",
              "      <td>0</td>\n",
              "      <td>1</td>\n",
              "      <td>0</td>\n",
              "      <td>0</td>\n",
              "      <td>0</td>\n",
              "      <td>0</td>\n",
              "      <td>0</td>\n",
              "    </tr>\n",
              "  </tbody>\n",
              "</table>\n",
              "</div>"
            ],
            "text/plain": [
              "  city wanted_spec  ...  ++_experience react_experience\n",
              "0    0          49  ...              1                0\n",
              "1    0         194  ...              0                1\n",
              "2    1          41  ...              0                0\n",
              "3    1          31  ...              0                0\n",
              "4    1         113  ...              0                0\n",
              "\n",
              "[5 rows x 14 columns]"
            ]
          },
          "metadata": {
            "tags": []
          },
          "execution_count": 53
        }
      ]
    },
    {
      "cell_type": "code",
      "metadata": {
        "id": "hbeNYh60Lma3"
      },
      "source": [
        "from sklearn.model_selection import train_test_split\n",
        "\n",
        "X_train, X_test, y_train, y_test = train_test_split(X, y, test_size = 0.2, random_state=42)"
      ],
      "execution_count": null,
      "outputs": []
    },
    {
      "cell_type": "code",
      "metadata": {
        "colab": {
          "base_uri": "https://localhost:8080/"
        },
        "id": "5KtOhFMRLma3",
        "outputId": "5ac37574-33fa-48ca-fca5-2125357755f9"
      },
      "source": [
        "from sklearn.ensemble import RandomForestClassifier\n",
        "\n",
        "rfc = RandomForestClassifier()\n",
        "rfc.fit(X_train, y_train)"
      ],
      "execution_count": null,
      "outputs": [
        {
          "output_type": "execute_result",
          "data": {
            "text/plain": [
              "RandomForestClassifier(bootstrap=True, ccp_alpha=0.0, class_weight=None,\n",
              "                       criterion='gini', max_depth=None, max_features='auto',\n",
              "                       max_leaf_nodes=None, max_samples=None,\n",
              "                       min_impurity_decrease=0.0, min_impurity_split=None,\n",
              "                       min_samples_leaf=1, min_samples_split=2,\n",
              "                       min_weight_fraction_leaf=0.0, n_estimators=100,\n",
              "                       n_jobs=None, oob_score=False, random_state=None,\n",
              "                       verbose=0, warm_start=False)"
            ]
          },
          "metadata": {
            "tags": []
          },
          "execution_count": 55
        }
      ]
    },
    {
      "cell_type": "code",
      "metadata": {
        "colab": {
          "base_uri": "https://localhost:8080/"
        },
        "id": "rUr-rRcnLma3",
        "outputId": "d85e42c5-5e00-4466-a655-81dfe39325d1"
      },
      "source": [
        "proba = pd.DataFrame(rfc.predict_proba(X_test))[1]\n",
        "\n",
        "accuracy_score(rfc.predict(X_test), y_test)"
      ],
      "execution_count": null,
      "outputs": [
        {
          "output_type": "execute_result",
          "data": {
            "text/plain": [
              "0.6794871794871795"
            ]
          },
          "metadata": {
            "tags": []
          },
          "execution_count": 56
        }
      ]
    },
    {
      "cell_type": "code",
      "metadata": {
        "colab": {
          "base_uri": "https://localhost:8080/"
        },
        "id": "V_A5Yv8dLma3",
        "outputId": "4cf54dae-188e-4241-966d-e1c0d6410f18"
      },
      "source": [
        "proba.index = X_test.index\n",
        "X_test['proba'] = proba"
      ],
      "execution_count": null,
      "outputs": [
        {
          "output_type": "stream",
          "text": [
            "/usr/local/lib/python3.6/dist-packages/ipykernel_launcher.py:2: SettingWithCopyWarning: \n",
            "A value is trying to be set on a copy of a slice from a DataFrame.\n",
            "Try using .loc[row_indexer,col_indexer] = value instead\n",
            "\n",
            "See the caveats in the documentation: https://pandas.pydata.org/pandas-docs/stable/user_guide/indexing.html#returning-a-view-versus-a-copy\n",
            "  \n"
          ],
          "name": "stderr"
        }
      ]
    },
    {
      "cell_type": "code",
      "metadata": {
        "id": "LCQVlHdEzygx"
      },
      "source": [
        ""
      ],
      "execution_count": null,
      "outputs": []
    }
  ]
}