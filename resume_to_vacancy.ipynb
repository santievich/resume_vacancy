{
  "nbformat": 4,
  "nbformat_minor": 0,
  "metadata": {
    "colab": {
      "name": "resume_to_vacancy.ipynb",
      "provenance": [],
      "toc_visible": true
    },
    "kernelspec": {
      "name": "python3",
      "display_name": "Python 3"
    }
  },
  "cells": [
    {
      "cell_type": "markdown",
      "metadata": {
        "id": "QC1_iQuUuCuQ"
      },
      "source": [
        "# Краткое описание"
      ]
    },
    {
      "cell_type": "markdown",
      "metadata": {
        "id": "l9VW5f36uDn8"
      },
      "source": [
        "Данный ноутбук предназначен для того, чтобы проверять соответствие резюме заданным вакансиям\n",
        "\n",
        "Система осуществляет подбор кандидату той вакансии, где он сможет наиболее полно раскрыть свой потенциал"
      ]
    },
    {
      "cell_type": "markdown",
      "metadata": {
        "id": "nHqmug6quWlm"
      },
      "source": [
        "# Resume-vacancy analysis"
      ]
    },
    {
      "cell_type": "code",
      "metadata": {
        "id": "jN9fzNR6the9"
      },
      "source": [
        "import time\n",
        "import pandas as pd\n",
        "import json\n",
        "import random as rd\n",
        "import numpy as np\n",
        "from sklearn.metrics import accuracy_score\n",
        "import re \n",
        "from sklearn.feature_extraction.text import CountVectorizer\n",
        "from sklearn.metrics.pairwise import cosine_similarity"
      ],
      "execution_count": null,
      "outputs": []
    },
    {
      "cell_type": "markdown",
      "metadata": {
        "id": "C--34uNuujgO"
      },
      "source": [
        "## Analysis"
      ]
    },
    {
      "cell_type": "code",
      "metadata": {
        "id": "b4rhs-Dj6ufR"
      },
      "source": [
        "def index(textcv, textjd):\n",
        "  documents = [textjd, textcv]\n",
        "  count_vectorizer = CountVectorizer()\n",
        "  sparse_matrix = count_vectorizer.fit_transform(documents)\n",
        "  doc_term_matrix = sparse_matrix.todense()\n",
        "  df = pd.DataFrame(doc_term_matrix, \n",
        "              columns=count_vectorizer.get_feature_names(), \n",
        "              index=['textjd', 'textcv'])\n",
        "  answer = cosine_similarity(df, df)\n",
        "  answer = pd.DataFrame(answer)\n",
        "  answer = answer.iloc[[1],[0]].values[0]\n",
        "  answer = round(float(answer),4)*100\n",
        "  return answer\n"
      ],
      "execution_count": null,
      "outputs": []
    },
    {
      "cell_type": "code",
      "metadata": {
        "id": "10YFF8ZCuimI"
      },
      "source": [
        "with open('drive/MyDrive/LD final/data_file_it.json') as f:\n",
        "    data = json.load(f)"
      ],
      "execution_count": null,
      "outputs": []
    },
    {
      "cell_type": "code",
      "metadata": {
        "id": "ZrsY4KOY77gZ"
      },
      "source": [
        "vacs = pd.read_csv('drive/MyDrive/LD final/vacancy_all_it.csv', index_col=0)\n",
        "vacs = vacs['description']"
      ],
      "execution_count": null,
      "outputs": []
    },
    {
      "cell_type": "code",
      "metadata": {
        "id": "wmwvzoM7uzmt"
      },
      "source": [
        "resume = re.sub(r\"[,\\'{}\\\\\\[\\]]\", \"\", str(data[0])).replace('xa0',' ')"
      ],
      "execution_count": null,
      "outputs": []
    },
    {
      "cell_type": "code",
      "metadata": {
        "colab": {
          "base_uri": "https://localhost:8080/",
          "height": 137
        },
        "id": "89VFLeAi8zJo",
        "outputId": "f4a2c8db-7671-4624-d886-68f88abac8fc"
      },
      "source": [
        "resume"
      ],
      "execution_count": null,
      "outputs": [
        {
          "output_type": "execute_result",
          "data": {
            "application/vnd.google.colaboratory.intrinsic+json": {
              "type": "string"
            },
            "text/plain": [
              "'birth_date: 23 августа 1994 gender: Мужчина area: Москва title: Специалист по машинному обучению specialization: name: Программирование Разработка profarea_name: Информационные технологии интернет телеком name: Аналитик profarea_name: Информационные технологии интернет телеком salary: amount: 120000 currency: руб. education_level: Высшее образование (Магистр) education: year: 2018 name: Московский государственный университет им. М.В. Ломоносова Москва organization: Физический Нелинейная оптика и лазерная физика year: 2016 name: Московский государственный университет им. М.В. Ломоносова Москва organization: Физический Физика language: name: Русский level: Родной name: Английский level: B1 - Средний experience: start: 01-03-2018 end: 01-09-2020 position: Программист C/С++ description: Обязанности: Разработка программ и библиотек обеспечивающих работу видео-стриминговых и транскодирующих приложений дальнейшее их тестирование и отладка. Осуществление сопровождения внедренных программ и программных средствnnОсновные инструменты: C/C++ Python Bash FFmpeg GitnnДостижения: Реализовал и внедрил в действующее ПО технологию адаптивной потоковой передачи данных (DASH) skill_set: Машинное обучение Data Mining Data Analysis C/C++ Python Git Linux SQL Bash Pandas Numpy Vkontakte Api LabVIEW MATLAB PyTorch skills: Ответственное отношение к учебеработе.  nОкончил школу с золотой медалью бакалавриат и магистратуру физического факультета МГУ им. М. В. Ломоносова с красными дипломами. Во время учебы занимался автоматизацией измерений в лаборатории оптоакустики с использованием LabView C++.nnУспешно закончил курс \"Введение в машинное обучение\" от Техносферы  Mail.ru занял первое место в курсовом проекте - рекомендательная система сообществ соц. сети Вконтакте.nnВ данный момент учусь на основной программе Техносферы \"Анализ больших объемов данных\" успешно закончил первый семестр - первое место по курсовому проекту: https://www.kaggle.com/c/anomaly-detection-competition-ml1-ts-spring-2020/leaderboardnnУмею работать в команде проекты Техносферы были командными координировал действия двух своих коллег.nСтремлюсь к развитию считаю что постоянно надо развиваться и пробовать новое. Работая разработчиком C++ заинтересовался машинным обучением легко совмещал работу и изучение новой сферы.'"
            ]
          },
          "metadata": {
            "tags": []
          },
          "execution_count": 92
        }
      ]
    },
    {
      "cell_type": "code",
      "metadata": {
        "id": "op4N-hSbuzrE"
      },
      "source": [
        "max_index = 0\n",
        "for i in range(len(vacs[:300])):\n",
        "  print(i, end=' ')\n",
        "  for k in range(len(data[:100])):\n",
        "    resume = re.sub(r\"[,\\'{}\\\\\\[\\]]\", \"\", str(data[k])).replace('xa0',' ')\n",
        "    vac = vacs[i]\n",
        "    index_temp = index(resume, vac)\n",
        "    if index_temp > max_index:\n",
        "      max_index = index_temp\n",
        "      best_vac = vacs[i]\n",
        "      best_res = resume\n",
        "print('Your best score is', max_index)"
      ],
      "execution_count": null,
      "outputs": []
    },
    {
      "cell_type": "code",
      "metadata": {
        "colab": {
          "base_uri": "https://localhost:8080/",
          "height": 187
        },
        "id": "liSAXfUcARN1",
        "outputId": "6191b804-5a0b-4329-d8c8-197bf9abefa1"
      },
      "source": [
        "best_vac"
      ],
      "execution_count": null,
      "outputs": [
        {
          "output_type": "execute_result",
          "data": {
            "application/vnd.google.colaboratory.intrinsic+json": {
              "type": "string"
            },
            "text/plain": [
              "'Группа компаний &quot;СофтЭксперт&quot; - крупнейший ИТ-интегратор и партнер фирмы 1С в ЦФО, работающий с 1999 года, в связи с расширением приглашает на работу Программиста 1С (УТ, Розница).  Обязанности:  комплексное внедрение и сопровождение решений на базе 1С:Управление торговлей и 1С:Розница, доработка типовых и разработка новых конфигураций 1С, работа с торговым оборудованием (онлайн-кассами), консультирование и обучение пользователей работе с 1С:УТ и 1С:Розница.  Требования:  высшее техническое или экономическое образование, опыт программирования в среде 1С, знание конфигураций 1С:Управление торговлей (1С:Розница желательно), опыт работы с торговым оборудованием, опыт работы с web-сервисами 1С, конвертацией данных, планами обмена, умение работать как самостоятельно, так и в команде.  Условия:  заработная плата от 70000 рублей (оклад + премия по результатам работы), готовы обсуждать Ваши финансовые ожидания, официальное оформление по ТК РФ, социальный пакет (отпуск, больничный), график 5/2, 9.00-18.00, возможность профессионального и карьерного роста, обучение и сертификация за счет компании, корпоративные праздники и подарки для сотрудников и их детей, дружный коллектив единомышленников, новый современный офис, бесплатные парковки для автомобилей и велосипедов сотрудников, открытие вакансии планируется в связи с расширением штата. '"
            ]
          },
          "metadata": {
            "tags": []
          },
          "execution_count": 101
        }
      ]
    },
    {
      "cell_type": "code",
      "metadata": {
        "colab": {
          "base_uri": "https://localhost:8080/",
          "height": 506
        },
        "id": "ilFwdZOABlwP",
        "outputId": "26d85806-bd26-4c39-a268-0a52b997b7c3"
      },
      "source": [
        "best_res"
      ],
      "execution_count": null,
      "outputs": [
        {
          "output_type": "execute_result",
          "data": {
            "application/vnd.google.colaboratory.intrinsic+json": {
              "type": "string"
            },
            "text/plain": [
              "'birth_date: 1 июня 1986 gender: Мужчина area: Москва title: Программист 1С specialization: name: Программирование Разработка profarea_name: Информационные технологии интернет телеком name: Инженер profarea_name: Информационные технологии интернет телеком salary: amount: 200000 currency: руб. education_level: Высшее образование education: year: 2008 name: Военно-технический университет при Федеральном агентстве специального строительства России Москва organization: ДМФ Инженер language: name: Русский level: Родной name: Английский level: B1 - Средний experience: start: 01-11-2006 end: 01-11-2020 position: Программист 1C description: - Большой опыт (16 лет) автоматизации на 1С оптово-розничной торговли.n- Настраивал и сопровождал: 1С:Управление торговлей 8 (ред. 10 11); 1С:Розница 8 (ред. 12); 1С:Комплексная автоматизация 8 (ред. 12); 1С:Бухгалтерия 8 (ред. 23); 1С:Зарплата и управление персоналом 8 (ред. 3); 1С:ERP.n- Опыт написания конфигураций на 1С \"с нуля\".n- Создавал микро-сервисы на 1С и C#.n- Создавал и редактировал правила обмена в КД 2 для обмена данными между базами 1С.n- Создавал HTTP-сервисы и WEB-сервисы (вкл. XDTO) для обмена данными между 1С и интернет-магазинами.n- Ускорял работу 1С (оптимизировал плохой код и предлагал варианты модернизации сервера).n- Отлично знаю язык запросов и СКД для оптимальной выборки данных из 1С особенно из больших баз.n- Опыт работы с расширениями для настройки 1С без изменения типовой конфигурации чтобы осталась возможность автоматического (быстрого) обновления 1С.n- Дорабатывал печатные формы документов в т.ч. делал внешние печатные формы отчёты и обработки.n- Опыт настройки распределённых баз данных 1С в сетях розничных магазинов (десятки торговых точек).n- Обновлял сильно-доработанные конфигурации 1С с переносом всех настроек и доработок.n- Опыт автоматизации адресных складов на 1С (WMS).n- Обучал пользователей работе в программе 1С.n- Создаю видео-инструкции по работе в 1С (мой канал на Youtube - https://www.youtube.com/channel/UCnIkkMf_742_5V4BgPrKClw)n- Опыт работы тимлидом в подчинении до 10 программистов 1С. start: 01-05-2004 end: 01-11-2006 position: Программист 1C description: - Изучение конфигураций \"1С:Предприятие 8.0\".n- Прохождение сертификаций \"1С:Профессионал\".n- Выезды к клиентам для настройки 1С.n- Создание тиражного ПП \"1С:Удаленная торговая точка\" с нуля на технологии \"1С:Web-Расширение\" попутное изучение языка C# т.к. указанная технология использует платформу .Net и язык C# в связке с платформой 1С.n- Защита ПП \"1С:Удаленная торговая точка\" в фирме \"1С\" получение сертификата \"1С:Совместимо\". start: 01-07-2003 end: 01-05-2004 position: Веб-программист description: - Создание корпоративного веб-сайта c нуля.n- Разработка десятков разделов включая раздел администрирования веб-сайта для управления контентом.n- Стек: Perl CGI JavaScript HTML CSS Apache.n- Регулярное общение с ген. директором как с главным постановщиком задач. start: 01-03-2000 end: 01-06-2000 position: Системный администратор description: - Ввод в эксплуатацию новых компьютеров на рабочих местах.n- Помощь в эксплуатации офисного ПО: MS Office 1С 7.7.n- Организация локально-вычислительной сети.n skill_set: Работоспособность 1С программирование 1С: Управление Торговлей 1С: Розница 1С: Предприятие 8 Администрирование серверов Windows MS SQL Обновление конфигурации 1С 1C: Бухгалтерия 1С: Торговля 1С: Склад Управление проектами руководство командой разработчиков JavaScript C# HTML HTTP JSON API XML jQuery Руководство коллективом Ведение переговоров Agile Project Management Scrum skills: - Имею большой опыт (16 лет) автоматизации на 1С оптово-розничной торговли. n- Глубокие знания встроенного языка 1С и основных конфигураций 1С:Предприятие 8. n- Дополнительно владею: C# .Net JavaScript TypeScript Angular HTML CSS MS SQL MS Server.n- Опыт работы по гибким методологиям Agile Scrum.n- Применение систем контроля версий и групповой разработки ПО: Git хранилище 1С.n- Применение систем учета задач: Jira и Битрикс24.n- Проактивен. Постоянный поиск точек роста.n- Обладаю системным мышлением. Стараюсь делать так чтобы проблемы решались и не повторялись.n'"
            ]
          },
          "metadata": {
            "tags": []
          },
          "execution_count": 102
        }
      ]
    },
    {
      "cell_type": "code",
      "metadata": {
        "id": "gEFVOFyLFq6W"
      },
      "source": [
        ""
      ],
      "execution_count": null,
      "outputs": []
    }
  ]
}