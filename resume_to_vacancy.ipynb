{
  "nbformat": 4,
  "nbformat_minor": 0,
  "metadata": {
    "colab": {
      "name": "resume_to_vacancy.ipynb",
      "provenance": [],
      "collapsed_sections": [],
      "toc_visible": true
    },
    "kernelspec": {
      "name": "python3",
      "display_name": "Python 3"
    }
  },
  "cells": [
    {
      "cell_type": "markdown",
      "metadata": {
        "id": "QC1_iQuUuCuQ"
      },
      "source": [
        "# Краткое описание"
      ]
    },
    {
      "cell_type": "markdown",
      "metadata": {
        "id": "l9VW5f36uDn8"
      },
      "source": [
        "Данный ноутбук предназначен для того, чтобы проверять соответствие резюме заданным вакансиям\n",
        "\n",
        "Система осуществляет подбор кандидату той вакансии, где он сможет наиболее полно раскрыть свой потенциал\n",
        "\n",
        "Система использует взвешенную оценку семантичности текста для наиболее точного анализа"
      ]
    },
    {
      "cell_type": "markdown",
      "metadata": {
        "id": "nHqmug6quWlm"
      },
      "source": [
        "# Resume-vacancy analysis"
      ]
    },
    {
      "cell_type": "code",
      "metadata": {
        "id": "jN9fzNR6the9"
      },
      "source": [
        "import time\n",
        "import pandas as pd\n",
        "import json\n",
        "import random as rd\n",
        "import numpy as np\n",
        "from sklearn.metrics import accuracy_score\n",
        "import re \n",
        "from sklearn.feature_extraction.text import CountVectorizer\n",
        "from sklearn.metrics.pairwise import cosine_similarity\n"
      ],
      "execution_count": 169,
      "outputs": []
    },
    {
      "cell_type": "code",
      "metadata": {
        "id": "V7bCW6uoVmac"
      },
      "source": [
        "#!pip install dostoevsky\n",
        "from dostoevsky.tokenization import RegexTokenizer\n",
        "from dostoevsky.models import FastTextSocialNetworkModel\n",
        "\n"
      ],
      "execution_count": 170,
      "outputs": []
    },
    {
      "cell_type": "code",
      "metadata": {
        "id": "XBVdWy2rWlkZ"
      },
      "source": [
        "!python -m dostoevsky download fasttext-social-network-model"
      ],
      "execution_count": 171,
      "outputs": []
    },
    {
      "cell_type": "markdown",
      "metadata": {
        "id": "C--34uNuujgO"
      },
      "source": [
        "## Analysis"
      ]
    },
    {
      "cell_type": "code",
      "metadata": {
        "id": "10YFF8ZCuimI"
      },
      "source": [
        "with open('drive/MyDrive/LD final/data_file_it.json') as f:\n",
        "    data = json.load(f)"
      ],
      "execution_count": 172,
      "outputs": []
    },
    {
      "cell_type": "code",
      "metadata": {
        "id": "ZrsY4KOY77gZ"
      },
      "source": [
        "vacs = pd.read_csv('drive/MyDrive/LD final/vacancy_all_it.csv', index_col=0)\n",
        "vacs = vacs['description']"
      ],
      "execution_count": 173,
      "outputs": []
    },
    {
      "cell_type": "code",
      "metadata": {
        "id": "oweNIbiZfRI-"
      },
      "source": [
        "res_list = []\n",
        "for i in range(len(data)):\n",
        "  resume = re.sub(r\"[,\\'{}\\\\\\[\\]]\", \"\", str(data[i])).replace('xa0',' ')\n",
        "  res_list.append(resume)"
      ],
      "execution_count": 174,
      "outputs": []
    },
    {
      "cell_type": "markdown",
      "metadata": {
        "id": "7lmgnjTNZ5sJ"
      },
      "source": [
        "## Sentiment analysis for each resume and vacancy"
      ]
    },
    {
      "cell_type": "code",
      "metadata": {
        "id": "xMIvgoG7CZeH"
      },
      "source": [
        "res_list_for_sentiment = []\n",
        "for res in data:\n",
        "  text = res['skills']\n",
        "  for i in range(len(res['experience'])):\n",
        "    text = text + ' ' +res['experience'][i]['description']\n",
        "  res_list_for_sentiment.append(text)"
      ],
      "execution_count": 175,
      "outputs": []
    },
    {
      "cell_type": "markdown",
      "metadata": {
        "id": "Ce68b-WBze44"
      },
      "source": [
        "Emotion scoring"
      ]
    },
    {
      "cell_type": "code",
      "metadata": {
        "colab": {
          "base_uri": "https://localhost:8080/"
        },
        "id": "WiMwdoVRZvDu",
        "outputId": "24df8244-c4c5-43df-f79a-9d770da158f2"
      },
      "source": [
        "tokenizer = RegexTokenizer()\n",
        "tokens = tokenizer.split('всё очень плохо')  # [('всё', None), ('очень', None), ('плохо', None)]\n",
        "\n",
        "model = FastTextSocialNetworkModel(tokenizer=tokenizer)\n",
        "\n",
        "results = model.predict(res_list_for_sentiment, k=2)\n",
        "res_values = []\n",
        "for res, sentiment in zip(res_list_for_sentiment, results):\n",
        "    res_values.append([res_list_for_sentiment.index(res),sentiment])"
      ],
      "execution_count": 176,
      "outputs": [
        {
          "output_type": "stream",
          "text": [
            "\n"
          ],
          "name": "stderr"
        }
      ]
    },
    {
      "cell_type": "code",
      "metadata": {
        "id": "i8qQVv3Kxguc"
      },
      "source": [
        "for i in range(len(res_values)):  \n",
        "  res_values[i][1] = 1 - res_values[i][1]['neutral']"
      ],
      "execution_count": 177,
      "outputs": []
    },
    {
      "cell_type": "code",
      "metadata": {
        "colab": {
          "base_uri": "https://localhost:8080/"
        },
        "id": "r-kXzF1AzTLS",
        "outputId": "ca71fdfe-f1cd-4253-9383-378de9d25e6a"
      },
      "source": [
        "res_values[0] #emotion score for data[0] resume"
      ],
      "execution_count": 178,
      "outputs": [
        {
          "output_type": "execute_result",
          "data": {
            "text/plain": [
              "[0, 0.2942049503326416]"
            ]
          },
          "metadata": {
            "tags": []
          },
          "execution_count": 178
        }
      ]
    },
    {
      "cell_type": "markdown",
      "metadata": {
        "id": "UgO4mBl6aBgx"
      },
      "source": [
        "### Matching resumes"
      ]
    },
    {
      "cell_type": "markdown",
      "metadata": {
        "id": "GWl104yS9uCP"
      },
      "source": [
        "Some functions"
      ]
    },
    {
      "cell_type": "markdown",
      "metadata": {
        "id": "-adC9W-6FzZz"
      },
      "source": [
        "emo_weight - это тот вес, который HR задаёт для оценки эмоциональной окраски текста.\n",
        "Чем выше оценка, тем более \"софтскильным\" является кандидат\n",
        "\n",
        "Там, где требуется искать более общительных кандидатов, стоит задавать большой вес для оценки семантичности текста"
      ]
    },
    {
      "cell_type": "code",
      "metadata": {
        "id": "sQlfvVjQ9oE_"
      },
      "source": [
        "def index(textcv, textjd):\n",
        "  '''\n",
        "  Resume to vacancy score\n",
        "  '''\n",
        "\n",
        "  documents = [textjd, textcv]\n",
        "  count_vectorizer = CountVectorizer()\n",
        "  sparse_matrix = count_vectorizer.fit_transform(documents)\n",
        "  doc_term_matrix = sparse_matrix.todense()\n",
        "  df = pd.DataFrame(doc_term_matrix, \n",
        "              columns=count_vectorizer.get_feature_names(), \n",
        "              index=['textjd', 'textcv'])\n",
        "  answer = cosine_similarity(df, df)\n",
        "  answer = pd.DataFrame(answer)\n",
        "  answer = answer.iloc[[1],[0]].values[0]\n",
        "  answer = round(float(answer),4)*100\n",
        "\n",
        "  return answer"
      ],
      "execution_count": 179,
      "outputs": []
    },
    {
      "cell_type": "code",
      "metadata": {
        "id": "lXI1V0dd9yux"
      },
      "source": [
        "def best_resume_vacancy_score(emo_weight):\n",
        "  '''\n",
        "  Searching vest resume for each vacancy\n",
        "  '''\n",
        "\n",
        "  best_match = []\n",
        "  for i in range(len(vacs[:15])):\n",
        "    vac = vacs[i]\n",
        "    max_index = 0\n",
        "    for k in range(len(res_list)):\n",
        "      resume = res_list[k]\n",
        "      index_temp = index(resume, vac)*(emo_weight*(1+res_values[k][1]))\n",
        "      if index_temp > max_index:\n",
        "        max_index = index_temp\n",
        "        best_resume_number = k\n",
        "    best_match.append([i, best_resume_number, max_index])\n",
        "\n",
        "  return best_match"
      ],
      "execution_count": 180,
      "outputs": []
    },
    {
      "cell_type": "code",
      "metadata": {
        "id": "emNMkg5XXp2i"
      },
      "source": [
        "def all_resumes_to_vacancies(emo_weight):\n",
        "  '''\n",
        "  Function that creates dataframe with resume scores to all vacancies\n",
        "  '''\n",
        "  scores = []\n",
        "  for i in range(len(res_list)):\n",
        "    resume = re.sub(r\"[,\\'{}\\\\\\[\\]]\", \"\", str(data[i])).replace('xa0',' ')\n",
        "    indexes_temp = []\n",
        "    for k in range(len(vacs[:20])):\n",
        "      vac = vacs[k]\n",
        "      index_temp = index(resume, vac)*(emo_weight*(1+res_values[k][1]))\n",
        "      indexes_temp.append(index_temp)\n",
        "    scores.append(indexes_temp)\n",
        "  \n",
        "  return pd.DataFrame(scores)"
      ],
      "execution_count": 181,
      "outputs": []
    },
    {
      "cell_type": "code",
      "metadata": {
        "id": "op4N-hSbuzrE",
        "colab": {
          "base_uri": "https://localhost:8080/"
        },
        "outputId": "301e0492-ac52-4106-c7b6-1df48de6116c"
      },
      "source": [
        "best_resume_vacancy_score(1.125)"
      ],
      "execution_count": 182,
      "outputs": [
        {
          "output_type": "execute_result",
          "data": {
            "text/plain": [
              "[[0, 46, 65.20722660563887],\n",
              " [1, 46, 19.195639913901687],\n",
              " [2, 46, 67.72801252640784],\n",
              " [3, 327, 29.50002345710993],\n",
              " [4, 11, 37.099665012359615],\n",
              " [5, 11, 38.370571904182434],\n",
              " [6, 361, 32.03245085969567],\n",
              " [7, 11, 30.02855539083481],\n",
              " [8, 253, 25.988436812460424],\n",
              " [9, 28, 46.03403934270143],\n",
              " [10, 156, 37.53016975164414],\n",
              " [11, 11, 42.64298230648041],\n",
              " [12, 11, 38.370571904182434],\n",
              " [13, 28, 52.02560047388077],\n",
              " [14, 156, 38.57963610112667]]"
            ]
          },
          "metadata": {
            "tags": []
          },
          "execution_count": 182
        }
      ]
    },
    {
      "cell_type": "code",
      "metadata": {
        "id": "gEFVOFyLFq6W",
        "colab": {
          "base_uri": "https://localhost:8080/",
          "height": 244
        },
        "outputId": "7e166bcc-c441-49ef-8b2b-7ed5bcb84a98"
      },
      "source": [
        "df = all_resumes_to_vacancies(1.125)\n",
        "df = df.transpose()\n",
        "df.head()"
      ],
      "execution_count": 183,
      "outputs": [
        {
          "output_type": "execute_result",
          "data": {
            "text/html": [
              "<div>\n",
              "<style scoped>\n",
              "    .dataframe tbody tr th:only-of-type {\n",
              "        vertical-align: middle;\n",
              "    }\n",
              "\n",
              "    .dataframe tbody tr th {\n",
              "        vertical-align: top;\n",
              "    }\n",
              "\n",
              "    .dataframe thead th {\n",
              "        text-align: right;\n",
              "    }\n",
              "</style>\n",
              "<table border=\"1\" class=\"dataframe\">\n",
              "  <thead>\n",
              "    <tr style=\"text-align: right;\">\n",
              "      <th></th>\n",
              "      <th>0</th>\n",
              "      <th>1</th>\n",
              "      <th>2</th>\n",
              "      <th>3</th>\n",
              "      <th>4</th>\n",
              "      <th>5</th>\n",
              "      <th>6</th>\n",
              "      <th>7</th>\n",
              "      <th>8</th>\n",
              "      <th>9</th>\n",
              "      <th>10</th>\n",
              "      <th>11</th>\n",
              "      <th>12</th>\n",
              "      <th>13</th>\n",
              "      <th>14</th>\n",
              "      <th>15</th>\n",
              "      <th>16</th>\n",
              "      <th>17</th>\n",
              "      <th>18</th>\n",
              "      <th>19</th>\n",
              "      <th>20</th>\n",
              "      <th>21</th>\n",
              "      <th>22</th>\n",
              "      <th>23</th>\n",
              "      <th>24</th>\n",
              "      <th>25</th>\n",
              "      <th>26</th>\n",
              "      <th>27</th>\n",
              "      <th>28</th>\n",
              "      <th>29</th>\n",
              "      <th>30</th>\n",
              "      <th>31</th>\n",
              "      <th>32</th>\n",
              "      <th>33</th>\n",
              "      <th>34</th>\n",
              "      <th>35</th>\n",
              "      <th>36</th>\n",
              "      <th>37</th>\n",
              "      <th>38</th>\n",
              "      <th>39</th>\n",
              "      <th>...</th>\n",
              "      <th>350</th>\n",
              "      <th>351</th>\n",
              "      <th>352</th>\n",
              "      <th>353</th>\n",
              "      <th>354</th>\n",
              "      <th>355</th>\n",
              "      <th>356</th>\n",
              "      <th>357</th>\n",
              "      <th>358</th>\n",
              "      <th>359</th>\n",
              "      <th>360</th>\n",
              "      <th>361</th>\n",
              "      <th>362</th>\n",
              "      <th>363</th>\n",
              "      <th>364</th>\n",
              "      <th>365</th>\n",
              "      <th>366</th>\n",
              "      <th>367</th>\n",
              "      <th>368</th>\n",
              "      <th>369</th>\n",
              "      <th>370</th>\n",
              "      <th>371</th>\n",
              "      <th>372</th>\n",
              "      <th>373</th>\n",
              "      <th>374</th>\n",
              "      <th>375</th>\n",
              "      <th>376</th>\n",
              "      <th>377</th>\n",
              "      <th>378</th>\n",
              "      <th>379</th>\n",
              "      <th>380</th>\n",
              "      <th>381</th>\n",
              "      <th>382</th>\n",
              "      <th>383</th>\n",
              "      <th>384</th>\n",
              "      <th>385</th>\n",
              "      <th>386</th>\n",
              "      <th>387</th>\n",
              "      <th>388</th>\n",
              "      <th>389</th>\n",
              "    </tr>\n",
              "  </thead>\n",
              "  <tbody>\n",
              "    <tr>\n",
              "      <th>0</th>\n",
              "      <td>10.191864</td>\n",
              "      <td>17.151451</td>\n",
              "      <td>18.592872</td>\n",
              "      <td>11.516806</td>\n",
              "      <td>18.549192</td>\n",
              "      <td>3.494353</td>\n",
              "      <td>15.710030</td>\n",
              "      <td>16.059466</td>\n",
              "      <td>29.498166</td>\n",
              "      <td>8.808682</td>\n",
              "      <td>5.736563</td>\n",
              "      <td>30.386314</td>\n",
              "      <td>11.385768</td>\n",
              "      <td>8.692204</td>\n",
              "      <td>6.872228</td>\n",
              "      <td>16.263303</td>\n",
              "      <td>21.694110</td>\n",
              "      <td>0.000000</td>\n",
              "      <td>5.023133</td>\n",
              "      <td>13.089265</td>\n",
              "      <td>13.482380</td>\n",
              "      <td>12.987347</td>\n",
              "      <td>22.247383</td>\n",
              "      <td>7.614778</td>\n",
              "      <td>11.065452</td>\n",
              "      <td>2.635325</td>\n",
              "      <td>4.120425</td>\n",
              "      <td>14.851002</td>\n",
              "      <td>23.805282</td>\n",
              "      <td>3.916588</td>\n",
              "      <td>6.508233</td>\n",
              "      <td>7.032386</td>\n",
              "      <td>5.358008</td>\n",
              "      <td>5.678324</td>\n",
              "      <td>8.415568</td>\n",
              "      <td>7.571099</td>\n",
              "      <td>15.069399</td>\n",
              "      <td>6.173358</td>\n",
              "      <td>3.188597</td>\n",
              "      <td>6.624712</td>\n",
              "      <td>...</td>\n",
              "      <td>10.774256</td>\n",
              "      <td>23.470407</td>\n",
              "      <td>13.293103</td>\n",
              "      <td>8.299089</td>\n",
              "      <td>6.027760</td>\n",
              "      <td>9.609472</td>\n",
              "      <td>8.109812</td>\n",
              "      <td>13.773576</td>\n",
              "      <td>13.817256</td>\n",
              "      <td>11.502246</td>\n",
              "      <td>7.483740</td>\n",
              "      <td>20.383728</td>\n",
              "      <td>7.556539</td>\n",
              "      <td>17.267930</td>\n",
              "      <td>56.637644</td>\n",
              "      <td>0.000000</td>\n",
              "      <td>13.540619</td>\n",
              "      <td>20.034293</td>\n",
              "      <td>5.503607</td>\n",
              "      <td>11.109132</td>\n",
              "      <td>12.201117</td>\n",
              "      <td>5.241530</td>\n",
              "      <td>31.784056</td>\n",
              "      <td>22.422101</td>\n",
              "      <td>29.585525</td>\n",
              "      <td>15.447954</td>\n",
              "      <td>11.997280</td>\n",
              "      <td>10.017146</td>\n",
              "      <td>5.416248</td>\n",
              "      <td>42.325355</td>\n",
              "      <td>16.903934</td>\n",
              "      <td>3.334196</td>\n",
              "      <td>2.446047</td>\n",
              "      <td>14.355968</td>\n",
              "      <td>30.269836</td>\n",
              "      <td>10.089945</td>\n",
              "      <td>6.464554</td>\n",
              "      <td>9.041639</td>\n",
              "      <td>25.683497</td>\n",
              "      <td>14.705404</td>\n",
              "    </tr>\n",
              "    <tr>\n",
              "      <th>1</th>\n",
              "      <td>7.330345</td>\n",
              "      <td>7.029097</td>\n",
              "      <td>9.883772</td>\n",
              "      <td>3.141576</td>\n",
              "      <td>8.736164</td>\n",
              "      <td>2.725568</td>\n",
              "      <td>17.443638</td>\n",
              "      <td>5.752384</td>\n",
              "      <td>8.635748</td>\n",
              "      <td>9.783356</td>\n",
              "      <td>0.000000</td>\n",
              "      <td>11.275246</td>\n",
              "      <td>4.446980</td>\n",
              "      <td>4.375255</td>\n",
              "      <td>5.121200</td>\n",
              "      <td>5.809764</td>\n",
              "      <td>15.234493</td>\n",
              "      <td>0.286902</td>\n",
              "      <td>1.707067</td>\n",
              "      <td>6.412258</td>\n",
              "      <td>6.613090</td>\n",
              "      <td>8.879615</td>\n",
              "      <td>8.148015</td>\n",
              "      <td>6.928682</td>\n",
              "      <td>4.289184</td>\n",
              "      <td>2.696878</td>\n",
              "      <td>1.692721</td>\n",
              "      <td>9.553835</td>\n",
              "      <td>13.929089</td>\n",
              "      <td>1.534925</td>\n",
              "      <td>11.619528</td>\n",
              "      <td>9.611215</td>\n",
              "      <td>3.873176</td>\n",
              "      <td>3.873176</td>\n",
              "      <td>4.475670</td>\n",
              "      <td>6.899992</td>\n",
              "      <td>6.139701</td>\n",
              "      <td>2.295215</td>\n",
              "      <td>2.180455</td>\n",
              "      <td>7.918493</td>\n",
              "      <td>...</td>\n",
              "      <td>3.500204</td>\n",
              "      <td>11.275246</td>\n",
              "      <td>9.080446</td>\n",
              "      <td>5.293341</td>\n",
              "      <td>4.934713</td>\n",
              "      <td>6.125356</td>\n",
              "      <td>3.686690</td>\n",
              "      <td>7.531176</td>\n",
              "      <td>2.696878</td>\n",
              "      <td>6.426603</td>\n",
              "      <td>2.912055</td>\n",
              "      <td>15.420979</td>\n",
              "      <td>4.131388</td>\n",
              "      <td>8.492297</td>\n",
              "      <td>15.033662</td>\n",
              "      <td>0.086071</td>\n",
              "      <td>11.088760</td>\n",
              "      <td>9.453419</td>\n",
              "      <td>1.649686</td>\n",
              "      <td>7.588556</td>\n",
              "      <td>4.446980</td>\n",
              "      <td>3.571929</td>\n",
              "      <td>13.828673</td>\n",
              "      <td>10.385850</td>\n",
              "      <td>7.172548</td>\n",
              "      <td>8.635748</td>\n",
              "      <td>4.102698</td>\n",
              "      <td>5.766729</td>\n",
              "      <td>8.320156</td>\n",
              "      <td>12.408509</td>\n",
              "      <td>2.955090</td>\n",
              "      <td>1.133263</td>\n",
              "      <td>2.668188</td>\n",
              "      <td>4.088353</td>\n",
              "      <td>15.650501</td>\n",
              "      <td>5.393756</td>\n",
              "      <td>4.131388</td>\n",
              "      <td>3.629310</td>\n",
              "      <td>7.430760</td>\n",
              "      <td>9.223897</td>\n",
              "    </tr>\n",
              "    <tr>\n",
              "      <th>2</th>\n",
              "      <td>10.739697</td>\n",
              "      <td>17.457413</td>\n",
              "      <td>17.774559</td>\n",
              "      <td>9.096307</td>\n",
              "      <td>18.538591</td>\n",
              "      <td>3.676004</td>\n",
              "      <td>16.030259</td>\n",
              "      <td>16.909617</td>\n",
              "      <td>24.045389</td>\n",
              "      <td>8.707083</td>\n",
              "      <td>7.553827</td>\n",
              "      <td>27.620482</td>\n",
              "      <td>11.128921</td>\n",
              "      <td>8.663836</td>\n",
              "      <td>7.236682</td>\n",
              "      <td>11.100090</td>\n",
              "      <td>22.531740</td>\n",
              "      <td>0.000000</td>\n",
              "      <td>7.049278</td>\n",
              "      <td>12.714648</td>\n",
              "      <td>14.199465</td>\n",
              "      <td>12.498412</td>\n",
              "      <td>22.185763</td>\n",
              "      <td>6.674469</td>\n",
              "      <td>11.402819</td>\n",
              "      <td>3.459768</td>\n",
              "      <td>4.339126</td>\n",
              "      <td>14.257128</td>\n",
              "      <td>17.183515</td>\n",
              "      <td>4.713934</td>\n",
              "      <td>6.847458</td>\n",
              "      <td>6.414987</td>\n",
              "      <td>7.308760</td>\n",
              "      <td>5.968100</td>\n",
              "      <td>8.865656</td>\n",
              "      <td>9.298127</td>\n",
              "      <td>12.829974</td>\n",
              "      <td>7.092525</td>\n",
              "      <td>3.358858</td>\n",
              "      <td>6.977199</td>\n",
              "      <td>...</td>\n",
              "      <td>11.345156</td>\n",
              "      <td>24.708511</td>\n",
              "      <td>12.829974</td>\n",
              "      <td>8.735915</td>\n",
              "      <td>10.148653</td>\n",
              "      <td>12.138020</td>\n",
              "      <td>7.582659</td>\n",
              "      <td>13.060625</td>\n",
              "      <td>15.064407</td>\n",
              "      <td>8.807993</td>\n",
              "      <td>7.121356</td>\n",
              "      <td>19.518859</td>\n",
              "      <td>8.490848</td>\n",
              "      <td>15.641035</td>\n",
              "      <td>57.749297</td>\n",
              "      <td>0.000000</td>\n",
              "      <td>12.829974</td>\n",
              "      <td>19.533274</td>\n",
              "      <td>5.506798</td>\n",
              "      <td>11.330741</td>\n",
              "      <td>13.709331</td>\n",
              "      <td>6.890705</td>\n",
              "      <td>31.700126</td>\n",
              "      <td>21.349653</td>\n",
              "      <td>28.643997</td>\n",
              "      <td>14.790509</td>\n",
              "      <td>11.691133</td>\n",
              "      <td>12.772311</td>\n",
              "      <td>6.414987</td>\n",
              "      <td>46.432972</td>\n",
              "      <td>17.342088</td>\n",
              "      <td>3.517431</td>\n",
              "      <td>3.099376</td>\n",
              "      <td>12.599322</td>\n",
              "      <td>26.712293</td>\n",
              "      <td>9.240464</td>\n",
              "      <td>6.818626</td>\n",
              "      <td>10.076575</td>\n",
              "      <td>26.351901</td>\n",
              "      <td>14.228297</td>\n",
              "    </tr>\n",
              "    <tr>\n",
              "      <th>3</th>\n",
              "      <td>9.364929</td>\n",
              "      <td>13.303331</td>\n",
              "      <td>14.239824</td>\n",
              "      <td>13.021100</td>\n",
              "      <td>18.396313</td>\n",
              "      <td>3.219996</td>\n",
              "      <td>13.008272</td>\n",
              "      <td>12.418153</td>\n",
              "      <td>22.013998</td>\n",
              "      <td>12.097436</td>\n",
              "      <td>5.567643</td>\n",
              "      <td>20.833761</td>\n",
              "      <td>9.724132</td>\n",
              "      <td>12.418153</td>\n",
              "      <td>8.479751</td>\n",
              "      <td>8.364293</td>\n",
              "      <td>19.473922</td>\n",
              "      <td>2.257846</td>\n",
              "      <td>8.646524</td>\n",
              "      <td>8.890269</td>\n",
              "      <td>14.085880</td>\n",
              "      <td>14.791457</td>\n",
              "      <td>14.380940</td>\n",
              "      <td>9.429073</td>\n",
              "      <td>7.581744</td>\n",
              "      <td>3.399598</td>\n",
              "      <td>6.658080</td>\n",
              "      <td>14.111537</td>\n",
              "      <td>23.951128</td>\n",
              "      <td>5.798559</td>\n",
              "      <td>8.082062</td>\n",
              "      <td>10.904370</td>\n",
              "      <td>7.748517</td>\n",
              "      <td>6.414335</td>\n",
              "      <td>13.303331</td>\n",
              "      <td>6.529793</td>\n",
              "      <td>14.919744</td>\n",
              "      <td>6.170590</td>\n",
              "      <td>4.118003</td>\n",
              "      <td>6.965968</td>\n",
              "      <td>...</td>\n",
              "      <td>12.597754</td>\n",
              "      <td>21.090334</td>\n",
              "      <td>13.957593</td>\n",
              "      <td>11.802377</td>\n",
              "      <td>12.071779</td>\n",
              "      <td>9.108356</td>\n",
              "      <td>10.185964</td>\n",
              "      <td>15.137831</td>\n",
              "      <td>3.194339</td>\n",
              "      <td>12.161580</td>\n",
              "      <td>8.980069</td>\n",
              "      <td>21.770254</td>\n",
              "      <td>11.391859</td>\n",
              "      <td>15.394405</td>\n",
              "      <td>18.370656</td>\n",
              "      <td>3.438084</td>\n",
              "      <td>16.908188</td>\n",
              "      <td>16.779901</td>\n",
              "      <td>7.453458</td>\n",
              "      <td>15.471377</td>\n",
              "      <td>16.561814</td>\n",
              "      <td>9.300786</td>\n",
              "      <td>12.905642</td>\n",
              "      <td>14.611856</td>\n",
              "      <td>8.633695</td>\n",
              "      <td>11.353373</td>\n",
              "      <td>7.953776</td>\n",
              "      <td>10.224450</td>\n",
              "      <td>6.555451</td>\n",
              "      <td>12.456639</td>\n",
              "      <td>9.801104</td>\n",
              "      <td>3.771629</td>\n",
              "      <td>3.797286</td>\n",
              "      <td>19.717666</td>\n",
              "      <td>7.928118</td>\n",
              "      <td>10.493852</td>\n",
              "      <td>6.132104</td>\n",
              "      <td>8.582381</td>\n",
              "      <td>16.035838</td>\n",
              "      <td>14.894086</td>\n",
              "    </tr>\n",
              "    <tr>\n",
              "      <th>4</th>\n",
              "      <td>11.427472</td>\n",
              "      <td>19.062099</td>\n",
              "      <td>13.715413</td>\n",
              "      <td>17.593902</td>\n",
              "      <td>17.777426</td>\n",
              "      <td>4.159893</td>\n",
              "      <td>14.559626</td>\n",
              "      <td>16.088999</td>\n",
              "      <td>13.666473</td>\n",
              "      <td>9.690104</td>\n",
              "      <td>6.643594</td>\n",
              "      <td>33.572786</td>\n",
              "      <td>9.408700</td>\n",
              "      <td>8.894831</td>\n",
              "      <td>7.524513</td>\n",
              "      <td>10.779018</td>\n",
              "      <td>19.257859</td>\n",
              "      <td>0.000000</td>\n",
              "      <td>5.811616</td>\n",
              "      <td>13.360598</td>\n",
              "      <td>15.697480</td>\n",
              "      <td>16.480518</td>\n",
              "      <td>14.718681</td>\n",
              "      <td>5.872791</td>\n",
              "      <td>7.084054</td>\n",
              "      <td>1.823012</td>\n",
              "      <td>2.667226</td>\n",
              "      <td>21.851675</td>\n",
              "      <td>9.445405</td>\n",
              "      <td>4.147658</td>\n",
              "      <td>7.879327</td>\n",
              "      <td>4.771642</td>\n",
              "      <td>5.554681</td>\n",
              "      <td>5.909495</td>\n",
              "      <td>12.137100</td>\n",
              "      <td>9.934804</td>\n",
              "      <td>8.907066</td>\n",
              "      <td>6.239840</td>\n",
              "      <td>2.214531</td>\n",
              "      <td>5.371156</td>\n",
              "      <td>...</td>\n",
              "      <td>11.403002</td>\n",
              "      <td>17.826366</td>\n",
              "      <td>13.849998</td>\n",
              "      <td>7.683568</td>\n",
              "      <td>3.902959</td>\n",
              "      <td>10.081624</td>\n",
              "      <td>7.084054</td>\n",
              "      <td>16.162409</td>\n",
              "      <td>1.823012</td>\n",
              "      <td>10.167269</td>\n",
              "      <td>8.246377</td>\n",
              "      <td>18.560465</td>\n",
              "      <td>9.800219</td>\n",
              "      <td>17.593902</td>\n",
              "      <td>20.762761</td>\n",
              "      <td>0.110115</td>\n",
              "      <td>14.620801</td>\n",
              "      <td>18.095536</td>\n",
              "      <td>6.582419</td>\n",
              "      <td>8.356492</td>\n",
              "      <td>11.305122</td>\n",
              "      <td>6.668064</td>\n",
              "      <td>18.242356</td>\n",
              "      <td>23.283167</td>\n",
              "      <td>8.845891</td>\n",
              "      <td>10.411968</td>\n",
              "      <td>8.894831</td>\n",
              "      <td>10.252913</td>\n",
              "      <td>8.148497</td>\n",
              "      <td>13.947877</td>\n",
              "      <td>16.859803</td>\n",
              "      <td>2.312411</td>\n",
              "      <td>4.991872</td>\n",
              "      <td>7.206403</td>\n",
              "      <td>2.275706</td>\n",
              "      <td>11.378532</td>\n",
              "      <td>7.989442</td>\n",
              "      <td>7.879327</td>\n",
              "      <td>16.125704</td>\n",
              "      <td>7.732508</td>\n",
              "    </tr>\n",
              "  </tbody>\n",
              "</table>\n",
              "<p>5 rows × 390 columns</p>\n",
              "</div>"
            ],
            "text/plain": [
              "         0          1          2    ...        387        388        389\n",
              "0  10.191864  17.151451  18.592872  ...   9.041639  25.683497  14.705404\n",
              "1   7.330345   7.029097   9.883772  ...   3.629310   7.430760   9.223897\n",
              "2  10.739697  17.457413  17.774559  ...  10.076575  26.351901  14.228297\n",
              "3   9.364929  13.303331  14.239824  ...   8.582381  16.035838  14.894086\n",
              "4  11.427472  19.062099  13.715413  ...   7.879327  16.125704   7.732508\n",
              "\n",
              "[5 rows x 390 columns]"
            ]
          },
          "metadata": {
            "tags": []
          },
          "execution_count": 183
        }
      ]
    },
    {
      "cell_type": "code",
      "metadata": {
        "id": "sJK-dpbTfpZw"
      },
      "source": [
        "#df.to_csv('proba_to_vacancy.csv')"
      ],
      "execution_count": 184,
      "outputs": []
    },
    {
      "cell_type": "markdown",
      "metadata": {
        "id": "SRCRKDrcxi4I"
      },
      "source": [
        "### Гипотеза: специалисты по машинному обучению востребованы больше остальных"
      ]
    },
    {
      "cell_type": "code",
      "metadata": {
        "id": "eVkV6K-JtTIS"
      },
      "source": [
        "ml_ids = []\n",
        "for i in range(len(res_list)):  \n",
        "  if ('машинное обучение' or ' ml ' or 'машинному обучению' or 'data science' or 'machine learning') in res_list[i].lower():\n",
        "    ml_ids.append(i)"
      ],
      "execution_count": 185,
      "outputs": []
    },
    {
      "cell_type": "code",
      "metadata": {
        "id": "35AyI26zyq6k"
      },
      "source": [
        "ml_score = []\n",
        "other_score = []\n",
        "for col in df.columns:\n",
        "  if col in ml_ids:\n",
        "    temp = df[col].mean()\n",
        "    ml_score.append(temp)\n",
        "  else:\n",
        "    temp = df[col].mean()\n",
        "    other_score.append(temp)"
      ],
      "execution_count": 186,
      "outputs": []
    },
    {
      "cell_type": "code",
      "metadata": {
        "colab": {
          "base_uri": "https://localhost:8080/"
        },
        "id": "4_bcIWvry8P1",
        "outputId": "40be2343-53f7-4de4-8a7c-761bf5f0b090"
      },
      "source": [
        "print('Средний коэф ML специалистов:', sum(ml_score)/len(ml_score))"
      ],
      "execution_count": 187,
      "outputs": [
        {
          "output_type": "stream",
          "text": [
            "Средний коэф ML специалистов: 16.1303584691151\n"
          ],
          "name": "stdout"
        }
      ]
    },
    {
      "cell_type": "code",
      "metadata": {
        "colab": {
          "base_uri": "https://localhost:8080/"
        },
        "id": "BjPi5FLBziS0",
        "outputId": "1e6603af-0624-4194-aa4b-f80550a1bcf2"
      },
      "source": [
        "print('Средний коэф других специалистов:', sum(other_score)/len(other_score))"
      ],
      "execution_count": 188,
      "outputs": [
        {
          "output_type": "stream",
          "text": [
            "Средний коэф других специалистов: 11.373484977933638\n"
          ],
          "name": "stdout"
        }
      ]
    },
    {
      "cell_type": "markdown",
      "metadata": {
        "id": "UxK3WX-yJMTK"
      },
      "source": [
        "### Гипотеза: успешнее ли резюме наиболее эмоциональных кандидатов?"
      ]
    },
    {
      "cell_type": "markdown",
      "metadata": {
        "id": "83UsrHhiK-Pi"
      },
      "source": [
        "Для начала выберем оптимальное решение распределения"
      ]
    },
    {
      "cell_type": "code",
      "metadata": {
        "colab": {
          "base_uri": "https://localhost:8080/"
        },
        "id": "wy-W8g5LA7_2",
        "outputId": "3277e393-dc5a-4f7f-df5e-b3a2a5e54ed6"
      },
      "source": [
        "n_01 = []\n",
        "n_02 = []\n",
        "n_03 = []\n",
        "for res in res_values:\n",
        "  if res[1]<0.135:\n",
        "    n_01.append(res_values.index(res))\n",
        "  elif res[1]>=0.135 and res[1]<0.21:\n",
        "    n_02.append(res_values.index(res))\n",
        "  else:\n",
        "    n_03.append(res_values.index(res))\n",
        "print(len(n_01), len(n_02), len(n_03))"
      ],
      "execution_count": 189,
      "outputs": [
        {
          "output_type": "stream",
          "text": [
            "102 142 146\n"
          ],
          "name": "stdout"
        }
      ]
    },
    {
      "cell_type": "markdown",
      "metadata": {
        "id": "V4WTTyknLwUe"
      },
      "source": [
        "Сделаем выборку кандидатов без коэффициента шума"
      ]
    },
    {
      "cell_type": "code",
      "metadata": {
        "id": "6ydyR5IVL1Pw"
      },
      "source": [
        "scores = []\n",
        "for i in range(len(res_list)):\n",
        "  resume = re.sub(r\"[,\\'{}\\\\\\[\\]]\", \"\", str(data[i])).replace('xa0',' ')\n",
        "  indexes_temp = []\n",
        "  for k in range(len(vacs[:20])):\n",
        "    vac = vacs[k]\n",
        "    index_temp = index(resume, vac)\n",
        "    indexes_temp.append(index_temp)\n",
        "  scores.append(indexes_temp)\n",
        "\n",
        "df_h = pd.DataFrame(scores)"
      ],
      "execution_count": 190,
      "outputs": []
    },
    {
      "cell_type": "code",
      "metadata": {
        "id": "p3zX0WTlMbmq"
      },
      "source": [
        "df_h = df_h.transpose()"
      ],
      "execution_count": 191,
      "outputs": []
    },
    {
      "cell_type": "code",
      "metadata": {
        "id": "XNUWy-gX3L5Q"
      },
      "source": [
        "n1 = []\n",
        "n2 = []\n",
        "n3 = []\n",
        "for col in df_h.columns:\n",
        "  if col in n_01:\n",
        "    n1.append(df_h[col].mean())\n",
        "  elif col in n_02:\n",
        "    n2.append(df_h[col].mean())\n",
        "  else:\n",
        "    n3.append(df_h[col].mean())"
      ],
      "execution_count": 192,
      "outputs": []
    },
    {
      "cell_type": "code",
      "metadata": {
        "colab": {
          "base_uri": "https://localhost:8080/"
        },
        "id": "yyyN_vuO2RD1",
        "outputId": "01e7b3ec-61b8-4b76-a03c-d74def67b1bd"
      },
      "source": [
        "print('Среднее у 1 группы: ', sum(n1)/len(n1))"
      ],
      "execution_count": 193,
      "outputs": [
        {
          "output_type": "stream",
          "text": [
            "Среднее у 1 группы:  6.57501470588235\n"
          ],
          "name": "stdout"
        }
      ]
    },
    {
      "cell_type": "code",
      "metadata": {
        "colab": {
          "base_uri": "https://localhost:8080/"
        },
        "id": "Xp4QmlnMLYQ9",
        "outputId": "4e6cb5d3-5558-4fb1-a2a9-7730fe23f449"
      },
      "source": [
        "print('Среднее у 2 группы: ', sum(n2)/len(n2))"
      ],
      "execution_count": 194,
      "outputs": [
        {
          "output_type": "stream",
          "text": [
            "Среднее у 2 группы:  9.890309859154932\n"
          ],
          "name": "stdout"
        }
      ]
    },
    {
      "cell_type": "code",
      "metadata": {
        "colab": {
          "base_uri": "https://localhost:8080/"
        },
        "id": "UtLEucGVLiPl",
        "outputId": "8e43a3eb-c5cf-4f3e-cebb-5648fb0f3daa"
      },
      "source": [
        "print('Среднее у 3 группы: ', sum(n3)/len(n3))"
      ],
      "execution_count": 195,
      "outputs": [
        {
          "output_type": "stream",
          "text": [
            "Среднее у 3 группы:  9.110208904109589\n"
          ],
          "name": "stdout"
        }
      ]
    },
    {
      "cell_type": "code",
      "metadata": {
        "id": "8RFkrxnfTmCp"
      },
      "source": [
        "all_means = []\n",
        "for col in df_h.columns:\n",
        "  all_means.append(df[col].mean())"
      ],
      "execution_count": 196,
      "outputs": []
    },
    {
      "cell_type": "code",
      "metadata": {
        "id": "Pscqi6u-T2Rf"
      },
      "source": [
        "all_emo_val = []\n",
        "for val in res_values:\n",
        "  all_emo_val.append(val[1])"
      ],
      "execution_count": 198,
      "outputs": []
    },
    {
      "cell_type": "code",
      "metadata": {
        "colab": {
          "base_uri": "https://localhost:8080/"
        },
        "id": "KznPtHZoUGA7",
        "outputId": "22d81bbb-b651-4dc2-d83c-28fb744f5b3d"
      },
      "source": [
        "from scipy.stats.stats import pearsonr\n",
        "\n",
        "print('Коэф. корреляции Пирсона:', pearsonr(all_means, all_emo_val)[0], '\\np_value:', pearsonr(all_means, all_emo_val)[1])"
      ],
      "execution_count": 204,
      "outputs": [
        {
          "output_type": "stream",
          "text": [
            "Коэф. корреляции Пирсона: 0.13625250602313158 \n",
            "p_value: 0.007044946369153215\n"
          ],
          "name": "stdout"
        }
      ]
    },
    {
      "cell_type": "markdown",
      "metadata": {
        "id": "2pjFOudqMsFc"
      },
      "source": [
        "### Выводы:"
      ]
    },
    {
      "cell_type": "markdown",
      "metadata": {
        "id": "QHjEBKhZMwam"
      },
      "source": [
        "Есть небольшая корреляция соответствия резюме вакансиям и тональности резюме"
      ]
    },
    {
      "cell_type": "code",
      "metadata": {
        "id": "FkZ3o2WaLmWN"
      },
      "source": [
        ""
      ],
      "execution_count": null,
      "outputs": []
    }
  ]
}